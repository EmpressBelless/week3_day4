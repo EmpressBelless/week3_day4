{
 "cells": [
  {
   "cell_type": "markdown",
   "metadata": {},
   "source": [
    "# Time/Space Complexity - Intro to Data Structures (User Defined)\n",
    "\n",
    "### Topics to discuss today:\n",
    "\n",
    "<ul>\n",
    "    <li>Time and Space Complexity - What is it/How do we measure it</li>\n",
    "    <li>Asymptotic Analysis</li>\n",
    "    <li><strong>Data Structures</strong></li>\n",
    "    <li>Some of the popular sorting algorithms</li>\n",
    "</ul>\n",
    "\n",
    "### Data Structures to discuss:\n",
    "- Arrays\n",
    "- Stacks\n",
    "- Queues\n",
    "- Linked Lists\n",
    "    - Singly Linked Lists\n",
    "    - Traversing A Linked List\n",
    "    - Finding a node in a linked list\n",
    "    - Adding to a linked list\n",
    "- Binary Search Trees\n",
    "    - Construction\n",
    "    - Traversal\n"
   ]
  },
  {
   "cell_type": "markdown",
   "metadata": {},
   "source": [
    "## Time and Space Complexity\n",
    "\n",
    "#### What is it?\n",
    "\n",
    "Time and space complexity is the measure of how much time a given action(function) will take to solve a problem. In the same fashion, we determine how much a given data structure will need in terms of memory allocation. A problem can have multiple solutions and finding the optimal solution for the problem needs to be analyzed in time and space.\n",
    "\n",
    "#### How do we measure Time and Space Complexity?\n",
    "\n",
    "In order to measure time and space complexity we use Asymptotic analysis. The reason for this is because we need a way to measure different algorithms (functions) based on the size of their inputs in a mathmatical way. For example, we could have a function that is computed as f(n) and another that is g(n^2). All things around the function staying constant, the only thing that changes is the size of the input. Below is the chart that shows the different Asymptotic analysis formats. "
   ]
  },
  {
   "cell_type": "markdown",
   "metadata": {},
   "source": [
    "<table style=\"text-align:center;\" class=\"table table-bordered\">\n",
    "<tbody><tr>\n",
    "<td>constant</td>\n",
    "<td>−</td>\n",
    "<td>Ο(1)</td>\n",
    "</tr>\n",
    "<tr>\n",
    "<td>logarithmic</td>\n",
    "<td>−</td>\n",
    "<td>Ο(log n)</td>\n",
    "</tr>\n",
    "<tr>\n",
    "<td>linear</td>\n",
    "<td>−</td>\n",
    "<td>Ο(n)</td>\n",
    "</tr>\n",
    "<tr>\n",
    "<td>Linear Logarithmic</td>\n",
    "<td>−</td>\n",
    "<td>Ο(n log n)</td>\n",
    "</tr>\n",
    "<tr>\n",
    "<td>quadratic</td>\n",
    "<td>−</td>\n",
    "<td>Ο(n<sup>2</sup>)</td>\n",
    "</tr>\n",
    "<tr>\n",
    "<td>cubic</td>\n",
    "<td>−</td>\n",
    "<td>Ο(n<sup>3</sup>)</td>\n",
    "</tr>\n",
    "<tr>\n",
    "<td>polynomial</td>\n",
    "<td>−</td>\n",
    "<td>n<sup>Ο(1)</sup></td>\n",
    "</tr>\n",
    "<tr>\n",
    "<td>exponential</td>\n",
    "<td>−</td>\n",
    "<td>2<sup>Ο(n)</sup></td>\n",
    "</tr>\n",
    "</tbody></table>"
   ]
  },
  {
   "cell_type": "markdown",
   "metadata": {},
   "source": [
    "## Arrays"
   ]
  },
  {
   "cell_type": "markdown",
   "metadata": {},
   "source": [
    "In python we benefit from the dynamic array which means the block of memory will expand as needed for the given input to the array. In traditional arrays (depending on the type of operating system) we will usually store our inputs in 4 or 8 consecutive blocks of memory. Below is a diagram of how that looks under the hood:\n",
    "\n",
    "<img src=\"http://www.mathcs.emory.edu/~cheung/Courses/170/Syllabus/09/FIGS/array02x.gif\" style=\"height:250px; width:350px;\">"
   ]
  },
  {
   "cell_type": "markdown",
   "metadata": {},
   "source": [
    "## Which in python looks like this:"
   ]
  },
  {
   "cell_type": "code",
   "execution_count": null,
   "metadata": {},
   "outputs": [],
   "source": []
  },
  {
   "cell_type": "markdown",
   "metadata": {},
   "source": [
    "### Let's take a look at some of the time and space analysis of arrays"
   ]
  },
  {
   "cell_type": "code",
   "execution_count": null,
   "metadata": {},
   "outputs": [],
   "source": []
  },
  {
   "cell_type": "markdown",
   "metadata": {},
   "source": [
    "## Stacks and Queues (Review)\n",
    "\n",
    "** Stacks ** as the name suggests is a data structure that allows for data to follow the Last In First Out priciple(LIFO). Think of a stack of pancakes for example. To get the first pancake you would  start with the top and go down.\n",
    "\n",
    "##### Searching through a stack will be Linear Time O(n) - Constant Space O(1)\n",
    "##### Selecting the last item will be done in Constant Time O(1) - Constant Space O(1)\n",
    "##### Adding to the stack should take Constant Time O(1) - Constant Space O(1)\n",
    "\n",
    "** Queues ** are similar but in this case follow the First In First Out principle(FIFO). Think of this as a line in a black friday sale. The first person camped out for the big screen tv is the first to get it.\n",
    "\n",
    "##### Searching through a queue will be Linear Time O(n) - Constant Space O(1)\n",
    "##### Selecting the first item will be done in Constant Time O(1) - Constant Space O(1)\n",
    "##### Adding to the queue should take Constant Time O(1) - Constant Space O(1)"
   ]
  },
  {
   "cell_type": "code",
   "execution_count": null,
   "metadata": {},
   "outputs": [],
   "source": []
  },
  {
   "cell_type": "markdown",
   "metadata": {},
   "source": [
    "## Linked List (Data Structure)\n",
    "\n",
    "A linked list is created by using the node class. We create a Node object and create another class to use this node object. We pass the appropriate values thorugh the node object to point the to the next data elements.\n",
    "\n",
    "There are some advantages and disadvantages with this data structure. **Advantages** Linked Lists can save memory because they can be flexibile with memory management which saves memory. **Disadvantages** Finding or adding to the list requires traversing the entire list."
   ]
  },
  {
   "cell_type": "code",
   "execution_count": null,
   "metadata": {},
   "outputs": [],
   "source": [
    "class LinkedListNode:\n",
    "    def __init__(self, value):\n",
    "        self.value = value\n",
    "        self.next = None\n",
    "    def traverse_list(self):\n",
    "        node = self\n",
    "        while node != None:\n",
    "            print(node.value)\n",
    "            node = node.next\n",
    "            \n",
    "            \n",
    "node1 = LinkedListNode('Mon')\n",
    "node2 = LinkedListNode('Tue')\n",
    "node3 = LinkedListNode('Wed')\n",
    "\n",
    "node1.next = node2\n",
    "node2.next = node3\n",
    "\n",
    "node1.traverse_list()\n",
    "\n",
    "#throw in python tutor and take a look\n"
   ]
  },
  {
   "cell_type": "code",
   "execution_count": null,
   "metadata": {},
   "outputs": [],
   "source": [
    "#Complete IMplementation of Linked List\n",
    "\n",
    "#Node Class\n",
    "class Node:\n",
    "    def __init__(self, value):\n",
    "        self.value = value\n",
    "        self.next = none\n",
    "        \n",
    " #linked list Class\n",
    "class LinkedLIst:\n",
    "    def __init__(self):\n",
    "        self.head = None #Like creating an empty list. its job is to point to the very first node in our list\n",
    "    #Method ot add new node to the front of the linked list. it will basically create a new node, and point to new node...then add to new node???\n",
    "    \n",
    "    def push_on(self, new_value):\n",
    "        new_node = Node(new_value)\n",
    "        new_node.next = self.head \n",
    "        self.head = new_node\n",
    "    #Method to add new node to the end of the linked list\n",
    "    def append(Self, new_value):\n",
    "        new_node = Node(new_value)\n",
    "        #Check if the linked list is empty\n",
    "        if self.head is None:\n",
    "            self.head = new_node\n",
    "        #if not empty\n",
    "        else:\n",
    "            last = self.head\n",
    "            #if the last value has a next value, continue\n",
    "            while last.next:\n",
    "                last = last.next\n",
    "            last.next = new_node\n",
    "    #Method to add new node in the middle of the linked list\n",
    "    def insert_after(self, prev_node, new_value):\n",
    "        #Check if previous node even exists\n",
    "        if prev_node is None:\n",
    "            print('the given node must not be empty')\n",
    "            return\n",
    "        new_mode = Node(new_value)\n",
    "        #Update the new node's next value to point to the previous node's next value\n",
    "        new_node.next  = prev_node.next\n",
    "        #Update the previous nodes next to point to the new node\n",
    "        prev_node.next = new_node\n",
    "    def find_node(self, value_to_find):\n",
    "        potential_node = self.head\n",
    "        while potential_node:\n",
    "            if potential_node.value == value_to_find:\n",
    "                return potential_node\n",
    "            potential_node = potential_node.next\n",
    "        return -1\n",
    "    def traverse_list(self):\n",
    "        node = self.head\n",
    "        while node:\n",
    "            print(node.value)\n",
    "            node = node.next\n",
    "\n",
    "links=LinkedList()\n",
    "links.push_on(10)\n",
    "links.push_on(5)\n",
    "links.append(15)\n",
    "links.insert_after(links.head.next, 12)\n",
    "my_node = links.find_nod(12)"
   ]
  },
  {
   "cell_type": "markdown",
   "metadata": {},
   "source": [
    "## Binary Search Trees"
   ]
  },
  {
   "cell_type": "code",
   "execution_count": null,
   "metadata": {},
   "outputs": [],
   "source": []
  },
  {
   "cell_type": "markdown",
   "metadata": {},
   "source": [
    "# Homework"
   ]
  },
  {
   "cell_type": "markdown",
   "metadata": {},
   "source": [
    "#### Problem 1: Linked Lists\n",
    "\n",
    "Using the above examples as a guide, create your own interpretation of the a Linked List class. You can not use the code above exactly, but again it can be used as a guide. This problem requires you to think about how a linked list works and create one using your own logic.\n",
    "\n",
    "*Remember* A Linked List is a list of Nodes that point to the next node in the chain. The first Node starts out as Empty(None) and each node after points to the next.\n",
    "\n",
    "Your Linked List should have a traverse method and have the ability to add a new node"
   ]
  },
  {
   "cell_type": "code",
   "execution_count": null,
   "metadata": {},
   "outputs": [],
   "source": [
    "class Months:\n",
    "    def __init__(self, value, nextNode=None):\n",
    "        self.value = value #equal to the value in our parameter\n",
    "        self.nextNode = None #equal to the node we're setting to none\n",
    "\n",
    "class Month:\n",
    "    def __init__(self, head=None):\n",
    "        self.head = head \n",
    "        \n",
    "    def insert(self, value): #create a node based on the value thats passed in. When they try to insert an element we quickly make a node. \n",
    "        node = Months(value)\n",
    "        if self.head is None: #we check to see if we have any nodes. if our nodes is none, we insert one element it becomes our head. \n",
    "            self.head = node\n",
    "            return\n",
    "        \n",
    "        currentNode = self.head #if it is not the head node we need to try to find where the currentnode is\n",
    "        while True:\n",
    "            if currentNode.nextNode is None: #if there is no node after the current node we're at, make next node our node\n",
    "                currentNode.nextNode = node #only way this will be satisfied if the node we're at is the last in the list\n",
    "                break\n",
    "            currentNode = currentNode.nextNode #so we can keep traversing to find the end-tail node\n",
    "    def printMonth(self):\n",
    "        currentNode = self.head\n",
    "        while currentNode is not None:\n",
    "            print(currentNode.value)\n",
    "            currentNode = currentNode.nextNode\n",
    "        print(\"None\")\n",
    "        \n",
    "ll = Month()\n",
    "ll.printMonth()\n",
    "ll.insert(\"July\")\n",
    "ll.printMonth()\n",
    "ll.insert(\"September\")\n",
    "ll.printMonth()\n"
   ]
  },
  {
   "cell_type": "markdown",
   "metadata": {},
   "source": [
    "#### Problem 2: Binary Search Tree\n",
    "\n",
    "Using the above examples as a guide, create your own interpretation of the a Binary Search Tree class. You can not use the code above exactly, but again it can be used as a guide. This problem requires you to think about how a Binary Search Tree works and create one using your own logic.\n",
    "\n",
    "*Remember* Binary Search Trees start with a head node and each node to the left of that will be smaller, each node to the right of it will be greater. The far left node should be the lowest number(if one exists) that is available. The far right node (if one exists) should be the greatest number"
   ]
  },
  {
   "cell_type": "code",
   "execution_count": 5,
   "metadata": {},
   "outputs": [
    {
     "name": "stdout",
     "output_type": "stream",
     "text": [
      "Checking Left Path, we're getting close\n",
      "File Found\n",
      "Checking Right Path, we're getting close\n",
      "File Found\n",
      "My favorite day in Jul is... Everyday!\n"
     ]
    }
   ],
   "source": [
    "class BST:\n",
    "    def __init__(self, string):\n",
    "        self.string = string #our initial value\n",
    "        self.left = None   \n",
    "        self.right = None\n",
    "    \n",
    "    def insert(self, string):\n",
    "        if self.string == string: #if our initial value equals our value nothing happens\n",
    "            print(\"Cannot have duplicates\")\n",
    "        if string < self.string:\n",
    "            if self.left:\n",
    "                self.left.insert(string)\n",
    "            else:\n",
    "                self.left = BST(string)\n",
    "        else:\n",
    "            if self.right:\n",
    "                self.right.insert(string)\n",
    "            else:\n",
    "                self.right = BST(string)\n",
    "    def seek(self, string):\n",
    "        if string == self.string:\n",
    "            print(\"File Found\")\n",
    "            \n",
    "        if string < self.string:\n",
    "            print(\"Checking Left Path, we're getting close\")\n",
    "            if self.left is None:\n",
    "                print(\"Left Path empty, checking Right\")\n",
    "            else:\n",
    "                self.left.seek(string)\n",
    "        if string > self.string:\n",
    "            print(\"Checking Right Path, we're getting close\")\n",
    "            if self.right is None:\n",
    "                print(\"Right path is empty\")\n",
    "            else:\n",
    "                self.right.seek(string)\n",
    "    def holiday(self, string):\n",
    "        if string == string:\n",
    "            print(f'My favorite day in {string} is... Everyday!')\n",
    "        \n",
    "            \n",
    "    \n",
    "Birthmonths = BST(\"Jan\")\n",
    "Birthmonths.insert(\"Feb\")\n",
    "Birthmonths.insert(\"Mar\")\n",
    "Birthmonths.insert(\"Apr\")\n",
    "Birthmonths.insert(\"May\")\n",
    "Birthmonths.insert(\"Jun\")\n",
    "Birthmonths.insert(\"Jul\")\n",
    "Birthmonths.insert(\"Aug\")\n",
    "Birthmonths.insert(\"Sep\")\n",
    "Birthmonths.insert(\"Oct\")\n",
    "Birthmonths.insert(\"Nov\")\n",
    "Birthmonths.insert(\"Dec\")\n",
    "Birthmonths.seek(\"Feb\")\n",
    "Birthmonths.seek(\"Mar\")\n",
    "Birthmonths.holiday(\"Jul\")"
   ]
  },
  {
   "cell_type": "code",
   "execution_count": null,
   "metadata": {},
   "outputs": [],
   "source": []
  },
  {
   "cell_type": "code",
   "execution_count": null,
   "metadata": {},
   "outputs": [],
   "source": []
  }
 ],
 "metadata": {
  "kernelspec": {
   "display_name": "Python 3",
   "language": "python",
   "name": "python3"
  },
  "language_info": {
   "codemirror_mode": {
    "name": "ipython",
    "version": 3
   },
   "file_extension": ".py",
   "mimetype": "text/x-python",
   "name": "python",
   "nbconvert_exporter": "python",
   "pygments_lexer": "ipython3",
   "version": "3.8.8"
  }
 },
 "nbformat": 4,
 "nbformat_minor": 2
}
